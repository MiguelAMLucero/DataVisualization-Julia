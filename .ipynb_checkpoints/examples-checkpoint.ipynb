{
 "cells": [
  {
   "cell_type": "code",
   "execution_count": 10,
   "id": "6c2b7d45-56da-4644-851d-6b67f514f073",
   "metadata": {},
   "outputs": [],
   "source": [
    "\n"
   ]
  },
  {
   "cell_type": "code",
   "execution_count": null,
   "id": "6d8c4efa-cce9-48fc-89b0-584007cc3656",
   "metadata": {},
   "outputs": [],
   "source": []
  },
  {
   "cell_type": "code",
   "execution_count": null,
   "id": "278e7563-253f-40bf-9ae2-88b5bb01c302",
   "metadata": {},
   "outputs": [],
   "source": []
  },
  {
   "cell_type": "code",
   "execution_count": null,
   "id": "d59e6d05-6dd9-4e5c-b67e-1db4c6436aa8",
   "metadata": {},
   "outputs": [],
   "source": []
  },
  {
   "cell_type": "code",
   "execution_count": null,
   "id": "ae26583b-88c6-4abb-828e-a6fad7c144a3",
   "metadata": {},
   "outputs": [],
   "source": []
  },
  {
   "cell_type": "markdown",
   "id": "290b3e1c-6681-4f05-bd7c-1ef223e21978",
   "metadata": {},
   "source": [
    "# Data with Python"
   ]
  },
  {
   "cell_type": "code",
   "execution_count": null,
   "id": "5affc3a1-13e8-4fd0-b886-2c613a7779a5",
   "metadata": {},
   "outputs": [],
   "source": [
    "using DataFrames\n",
    "using CSV"
   ]
  },
  {
   "cell_type": "code",
   "execution_count": null,
   "id": "1c186b66-c8a3-4fd1-81bb-d0b321169080",
   "metadata": {},
   "outputs": [],
   "source": [
    "df = CSV.File(\"data/anscombe.csv\") |> DataFrame # the output is pased to the DataFrame constructor"
   ]
  },
  {
   "cell_type": "code",
   "execution_count": null,
   "id": "1417a518-81fd-4a03-b07b-6f652135fc12",
   "metadata": {},
   "outputs": [],
   "source": [
    "xlim = collect(extrema(Matrix(select(df, r\"x\"))) .+ (-1, 1))"
   ]
  },
  {
   "cell_type": "code",
   "execution_count": null,
   "id": "cf817a8f-e165-405e-bc26-72eadd9835cd",
   "metadata": {},
   "outputs": [],
   "source": [
    "ylim = collect(extrema(Matrix(select(df, r\"y\"))) .+ (-1, 1))"
   ]
  },
  {
   "cell_type": "code",
   "execution_count": null,
   "id": "d5a1acfa-733c-40d9-8a8f-094042e434f9",
   "metadata": {},
   "outputs": [],
   "source": [
    "using PyPlot"
   ]
  },
  {
   "cell_type": "code",
   "execution_count": null,
   "id": "1819fb8c-6bd2-49e9-8ba5-c1053433f824",
   "metadata": {},
   "outputs": [],
   "source": [
    "using GLM"
   ]
  },
  {
   "cell_type": "code",
   "execution_count": null,
   "id": "ba9d1e78-ec18-4c86-a90d-6a3b0707556f",
   "metadata": {},
   "outputs": [],
   "source": [
    "fig, axs = plt.subplots(2,2)\n",
    "fig.tight_layout(pad=4.0)\n",
    "for i in 1:4\n",
    "    x = Symbol(\"x\", i)\n",
    "    y = Symbol(\"y\", i)\n",
    "    model = lm(term(y)~term(x), df) # linear model\n",
    "    axs[i].plot(xlim, predict(model, DataFrame(x => xlim)), color=\"orange\")\n",
    "    axs[i].scatter(df[:, x], df[:, y])\n",
    "    axs[i].set_xlim(xlim)\n",
    "    axs[i].set_ylim(ylim)\n",
    "    axs[i].set_xlabel(\"x$i\")\n",
    "    axs[i].set_ylabel(\"y$i\")\n",
    "    a, b = round.(coef(model), digits=2)\n",
    "    c = round(100 * r2(model), digits=2)\n",
    "    axs[i].set_title(string(\"R²=$c%, $y=$a+$b$x\"))\n",
    "end"
   ]
  },
  {
   "cell_type": "code",
   "execution_count": null,
   "id": "9680f22b-2c15-4799-abc1-00fd52ecbd81",
   "metadata": {},
   "outputs": [],
   "source": []
  }
 ],
 "metadata": {
  "kernelspec": {
   "display_name": "Julia 1.7.2",
   "language": "julia",
   "name": "julia-1.7"
  },
  "language_info": {
   "file_extension": ".jl",
   "mimetype": "application/julia",
   "name": "julia",
   "version": "1.7.2"
  }
 },
 "nbformat": 4,
 "nbformat_minor": 5
}
