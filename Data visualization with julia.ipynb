{
 "cells": [
  {
   "cell_type": "markdown",
   "id": "33794828-6ed8-4e19-aa46-de246816cedc",
   "metadata": {},
   "source": [
    "# Loading Data"
   ]
  },
  {
   "cell_type": "code",
   "execution_count": null,
   "id": "dca37c22-100f-4e05-8f32-b325827762f5",
   "metadata": {},
   "outputs": [],
   "source": [
    "using DataFrames\n",
    "using CSV"
   ]
  },
  {
   "cell_type": "code",
   "execution_count": null,
   "id": "de75469f-315c-452f-b5a9-345249fa2df8",
   "metadata": {},
   "outputs": [],
   "source": [
    "df = CSV.File(\"data/anscombe.csv\") |> DataFrame"
   ]
  },
  {
   "cell_type": "code",
   "execution_count": null,
   "id": "5675cab7-8a47-473f-a766-926dfaf13e4c",
   "metadata": {},
   "outputs": [],
   "source": [
    "describe(df)"
   ]
  },
  {
   "cell_type": "code",
   "execution_count": null,
   "id": "e175e4e2-06e2-48fe-9794-9c3ccc2a81e0",
   "metadata": {},
   "outputs": [],
   "source": [
    "describe(df, :mean, :std)"
   ]
  },
  {
   "cell_type": "code",
   "execution_count": null,
   "id": "843f5434-ff34-44fa-be8c-f276eabadb1a",
   "metadata": {},
   "outputs": [],
   "source": [
    "df[:, :x2]"
   ]
  },
  {
   "cell_type": "code",
   "execution_count": null,
   "id": "e93f24ab-abf7-4632-8d79-b330432fe5bc",
   "metadata": {},
   "outputs": [],
   "source": [
    "nrow(df), ncol(df)"
   ]
  },
  {
   "cell_type": "code",
   "execution_count": null,
   "id": "3cc3b7f0-03e2-42d1-960d-cf7cfdb9ee95",
   "metadata": {},
   "outputs": [],
   "source": [
    "size(df)"
   ]
  },
  {
   "cell_type": "code",
   "execution_count": null,
   "id": "1dc4360f-ca4f-4ac4-addc-5fc96909c9a4",
   "metadata": {},
   "outputs": [],
   "source": [
    "extrema([[12, 2, 5, 7]\n",
    "        [2, 4, 5, 6]])"
   ]
  },
  {
   "cell_type": "code",
   "execution_count": null,
   "id": "f8b903a4-be3c-4350-be3b-e122dd7d2d61",
   "metadata": {},
   "outputs": [],
   "source": [
    "select(df, r\"x\")"
   ]
  },
  {
   "cell_type": "code",
   "execution_count": null,
   "id": "f7edbc26-34b9-451b-b7e3-a6654e16ccb2",
   "metadata": {},
   "outputs": [],
   "source": [
    "Matrix(select(df, r\"x\"))"
   ]
  },
  {
   "cell_type": "code",
   "execution_count": null,
   "id": "b5cc8f13-f1e1-4c3f-887d-b4fc7d46c5d7",
   "metadata": {},
   "outputs": [],
   "source": [
    "xlim = collect(extrema(Matrix(select(df, r\"x\"))) .+ (-1, 1))"
   ]
  },
  {
   "cell_type": "code",
   "execution_count": null,
   "id": "a4033e5d-5cbd-40e5-8fad-a536c0bbaee4",
   "metadata": {},
   "outputs": [],
   "source": [
    "ylim = collect(extrema(Matrix(select(df, r\"y\"))) .+ (-1, 1))"
   ]
  },
  {
   "cell_type": "code",
   "execution_count": null,
   "id": "f9c8b46e-aa80-4bad-bded-edcdec9c7ba7",
   "metadata": {},
   "outputs": [],
   "source": [
    "using Plots\n",
    "plot_array = Any[]\n",
    "\n",
    "for i in 1:4\n",
    "    x_vals = df[:, \"x$i\"]\n",
    "    y_vals = df[:, \"y$i\"]\n",
    "    p = plot( x_vals, y_vals,\n",
    "              seriestype=:scatter,\n",
    "              xlabel=\"x$i\", ylabel=\"y$i\",\n",
    "              xlims=xlim, ylims=ylim,\n",
    "              smooth=true,\n",
    "              opacity=0.8, palette = :Dark2_5,  \n",
    "    )\n",
    "    push!(plot_array, p)  \n",
    "end\n",
    "plot(plot_array..., layout = (2, 2), legend = false, size = (800, 400))"
   ]
  },
  {
   "cell_type": "markdown",
   "id": "33634d97-3a8c-4cf0-b618-614bd140eb2d",
   "metadata": {},
   "source": [
    "# Loading dataset from RDatasets"
   ]
  },
  {
   "cell_type": "code",
   "execution_count": null,
   "id": "0836360a-ac6b-4c78-94af-3e5c5a0d5383",
   "metadata": {},
   "outputs": [],
   "source": [
    "using RDatasets\n",
    "using StatsPlots\n",
    "iris = dataset(\"datasets\", \"iris\")\n",
    "\n",
    "@df iris groupedbar(\n",
    "    :SepalLength,\n",
    "    :SepalWidth,\n",
    "    bar_position = :stack,\n",
    "    group = :Species,\n",
    "    title = \"Awesome Plot\",\n",
    "    xlabel = \"Length\",\n",
    "    ylabel = \"Width\",\n",
    "    m = (0.5, [:cross :hex :star7], 12),\n",
    "    bg = RGB(0.2,0.2,0.2)\n",
    ")"
   ]
  },
  {
   "cell_type": "code",
   "execution_count": null,
   "id": "e87c8ab9-28dc-4581-a547-85a73c7e872a",
   "metadata": {},
   "outputs": [],
   "source": [
    "describe(iris)"
   ]
  },
  {
   "cell_type": "code",
   "execution_count": null,
   "id": "bb99da42-d890-4e40-ba54-1602840044bd",
   "metadata": {},
   "outputs": [],
   "source": []
  }
 ],
 "metadata": {
  "kernelspec": {
   "display_name": "Julia 1.7.2",
   "language": "julia",
   "name": "julia-1.7"
  },
  "language_info": {
   "file_extension": ".jl",
   "mimetype": "application/julia",
   "name": "julia",
   "version": "1.7.2"
  }
 },
 "nbformat": 4,
 "nbformat_minor": 5
}
